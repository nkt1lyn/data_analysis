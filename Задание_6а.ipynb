{
 "cells": [
  {
   "cell_type": "code",
   "execution_count": 1,
   "metadata": {},
   "outputs": [],
   "source": [
    "import pandas as pd\n",
    "import numpy as np\n",
    "import matplotlib.pyplot as plt"
   ]
  },
  {
   "cell_type": "markdown",
   "metadata": {},
   "source": [
    "### Функции"
   ]
  },
  {
   "cell_type": "code",
   "execution_count": 2,
   "metadata": {},
   "outputs": [],
   "source": [
    "def data_load():\n",
    "    df = pd.read_excel('/Users/nkt1lyn/coef_opr_actions.xlsx')\n",
    "    return df\n"
   ]
  },
  {
   "cell_type": "code",
   "execution_count": 3,
   "metadata": {},
   "outputs": [],
   "source": [
    "def data_shape(df, date1, date2):\n",
    "    df = df.loc[(df['Time'] >= date1) & (df['Time'] <= date2)]\n",
    "    return df\n"
   ]
  },
  {
   "cell_type": "code",
   "execution_count": 4,
   "metadata": {},
   "outputs": [],
   "source": [
    "def diff_diagram(level_df, xlabel, title):\n",
    "    plt.figure(figsize=(10, 7))\n",
    "\n",
    "    bar1 = plt.bar(np.arange(len(level_df['Период'])), level_df['Отклонение от BL White'], color='white', edgecolor = \"black\", alpha=0.7, label='Белые дни')\n",
    "    bar2 = plt.bar(np.arange(len(level_df['Период'])), level_df['Отклонение от BL Black'], color='black', edgecolor = \"black\", alpha=0.7, label='Черные дни')\n",
    "\n",
    "    for i, (val1, val2) in enumerate(zip(level_df['Отклонение от BL White'], level_df['Отклонение от BL Black'])):\n",
    "        plt.text(i, val1, f\"{val1:.2f}%\", ha='center', va='bottom' if val1 >= 0 else 'top', fontsize=9, color='black')\n",
    "        plt.text(i, val2, f\"{val2:.2f}%\", ha='center', va='bottom' if val2 >= 0 else 'top', fontsize=9, color='black')\n",
    "\n",
    "    plt.axhline(y=0, color='black')\n",
    "    plt.xlabel(xlabel)\n",
    "    plt.ylabel('Отклонение от базового уровня, %')\n",
    "    plt.title(title)\n",
    "    plt.xticks(np.arange(len(level_df['Период'])), level_df['Период'])\n",
    "    plt.legend(loc='lower left')\n",
    "    plt.show()\n"
   ]
  },
  {
   "cell_type": "code",
   "execution_count": 5,
   "metadata": {},
   "outputs": [],
   "source": [
    "def day_cat(df):\n",
    "    df['Категория дня'] = np.where((df['Var1'] >= mean - std) & (df['Var1'] <= mean + std), 'White', 'Black').astype(str)\n",
    "    return df\n"
   ]
  },
  {
   "cell_type": "code",
   "execution_count": 6,
   "metadata": {},
   "outputs": [],
   "source": [
    "def BW_level(df, period, BaseLevel):\n",
    "    period_list = []\n",
    "\n",
    "    for p in period:\n",
    "        count_white_days = np.sum((df.loc[df['Период'] == p, 'Категория дня'] == 'White'))\n",
    "        count_black_days = np.sum((df.loc[df['Период'] == p, 'Категория дня'] == 'Black'))    \n",
    "        p_len = count_white_days + count_black_days\n",
    "\n",
    "        percentage_white_days = (count_white_days / p_len) * 100\n",
    "        percentage_black_days = (count_black_days / p_len) * 100\n",
    "\n",
    "        diff_1 = percentage_white_days - BaseLevel[0]\n",
    "        diff_2 = percentage_black_days - BaseLevel[1]\n",
    "\n",
    "        period_list.append({\n",
    "            'Период': p,\n",
    "            'Уровень белых дней': percentage_white_days,\n",
    "            'Уровень черных дней': percentage_black_days,\n",
    "            'Отклонение от BL White': diff_1,\n",
    "            'Отклонение от BL Black': diff_2\n",
    "        })\n",
    "\n",
    "    return pd.DataFrame(period_list)\n"
   ]
  },
  {
   "cell_type": "code",
   "execution_count": 7,
   "metadata": {},
   "outputs": [],
   "source": [
    "def shift_model(df, l):\n",
    "    l = -l\n",
    "    df['Период'] = np.roll(df['Период'], l)\n",
    "    # df = pd.concat([df.iloc[l:], df.iloc[:l]], ignore_index=True)\n",
    "    if l > 0:\n",
    "        df.loc[:l-1, 'Период'] = 1\n",
    "    elif l == 0:\n",
    "      return df\n",
    "    else:\n",
    "      df.iloc[l:, df.columns.get_loc('Период')] = 13\n",
    "    return df"
   ]
  },
  {
   "cell_type": "code",
   "execution_count": 8,
   "metadata": {},
   "outputs": [],
   "source": [
    "def model_with_shift(l):\n",
    "    df = data_load()\n",
    "    df = data_shape(df, '2019-12-21', '2023-03-04')\n",
    "    df = day_cat(df)\n",
    "    df['Период'] = (df['Time'].sub(df['Time'].min()) // pd.Timedelta('90 days')).add(1)\n",
    "    df = shift_model(df, l)\n",
    "    return df\n"
   ]
  },
  {
   "cell_type": "code",
   "execution_count": 9,
   "metadata": {},
   "outputs": [],
   "source": [
    "def calculate_levels(group):\n",
    "   Std1 = (group['Var1'] >= mean - std) & (group['Var1'] <= mean + std)\n",
    "\n",
    "   W = Std1.sum()\n",
    "   B = len(group) - W\n",
    "\n",
    "   BL1 = 100 * W / len(group)\n",
    "   BL2 = 100 * B / len(group)\n",
    "\n",
    "   return pd.Series({'Период': group['Период'].iloc[0], 'BW': [BL1, BL2]})"
   ]
  },
  {
   "cell_type": "code",
   "execution_count": 10,
   "metadata": {},
   "outputs": [],
   "source": [
    "def BW_calc(df):\n",
    "    result = df.groupby('Период').apply(calculate_levels).reset_index(drop=True)\n",
    "    W = result['BW'].apply(lambda x: x[0]).sum()/len(result)\n",
    "    B = result['BW'].apply(lambda x: x[1]).sum()/len(result)\n",
    "    return [W, B]"
   ]
  },
  {
   "cell_type": "code",
   "execution_count": 11,
   "metadata": {},
   "outputs": [],
   "source": [
    "def FE_table(list):\n",
    "    model = []\n",
    "    fit_error = []\n",
    "    \n",
    "    for l in list:\n",
    "        model.append('i = ' + str(l))\n",
    "        fit_error.append(fit_error_calc(BW_calc(model_with_shift(l))).round(4))\n",
    "\n",
    "    FE = pd.DataFrame({\n",
    "        'Model': model,\n",
    "        'Fit-error': fit_error\n",
    "        })\n",
    "    return FE"
   ]
  },
  {
   "cell_type": "code",
   "execution_count": 12,
   "metadata": {},
   "outputs": [],
   "source": [
    "def plot_shift(df, l):\n",
    "    result_df = df.groupby('Период').apply(calculate_levels).reset_index(drop=True)\n",
    "    bar_width = 0.4\n",
    "    bar_positions1 = result_df['Период'].values\n",
    "    bar_positions2 = bar_positions1 + bar_width\n",
    "\n",
    "    fig, ax = plt.subplots(figsize=(16, 6))\n",
    "    bar1 = ax.bar(bar_positions1, [val[0] for val in result_df['BW']], width=bar_width, color='white', edgecolor='black', label='Белые дни')\n",
    "    bar2 = ax.bar(bar_positions2, [val[1] for val in result_df['BW']], width=bar_width, color='black', edgecolor='black', label='Черные дни')\n",
    "\n",
    "    for i, (bw_values, period) in enumerate(zip(result_df['BW'], result_df['Период'])):\n",
    "        ax.text(bar_positions1[i], bw_values[0] + 1, f'{bw_values[0]:.2f}', ha='center', va='bottom', fontsize=7)\n",
    "        ax.text(bar_positions2[i], bw_values[1] + 1, f'{bw_values[1]:.2f}', ha='center', va='bottom', fontsize=7)\n",
    "\n",
    "    ax.set_xticks(bar_positions1 + bar_width / 2)\n",
    "    ax.set_xticklabels(result_df['Период'])\n",
    "    ax.legend()\n",
    "\n",
    "    # Добавление подписей осей и заголовка\n",
    "    ax.set_xlabel('Паттерн модели с параметром сдвига l = ' + str(l))\n",
    "    ax.set_ylabel('Уровени белого и черного в (%)')\n",
    "\n",
    "    plt.show()\n"
   ]
  },
  {
   "cell_type": "markdown",
   "metadata": {},
   "source": [
    "### 1. Моделирование типичного свойства данных"
   ]
  },
  {
   "cell_type": "markdown",
   "metadata": {},
   "source": [
    "#### 1.1 Равномерное агрегирование по времени"
   ]
  },
  {
   "cell_type": "markdown",
   "metadata": {},
   "source": [
    "Задача А: для равномерно агрегированной модели из 13-ти столбиков по 90 дней каждый определить\n",
    "уровень белого и черного BW всей модели на всем наборе данных.\n"
   ]
  },
  {
   "cell_type": "code",
   "execution_count": 13,
   "metadata": {},
   "outputs": [],
   "source": [
    "df = data_load()\n",
    "df = data_shape(df, '2019-12-21', '2023-03-04')"
   ]
  },
  {
   "cell_type": "code",
   "execution_count": 14,
   "metadata": {},
   "outputs": [],
   "source": [
    "df['Период'] = (df['Time'].sub(df['Time'].min()) // pd.Timedelta('90 days')).add(1)"
   ]
  },
  {
   "cell_type": "code",
   "execution_count": 15,
   "metadata": {},
   "outputs": [
    {
     "data": {
      "text/plain": [
       "[71.02564102564102, 28.974358974358974]"
      ]
     },
     "execution_count": 15,
     "metadata": {},
     "output_type": "execute_result"
    }
   ],
   "source": [
    "mean = df['Var1'].mean()\n",
    "std = df['Var1'].std()\n",
    "Std1 = (df['Var1'] >= mean - std) & (df['Var1'] <= mean + std)\n",
    "\n",
    "W = Std1.sum()\n",
    "B = len(df) - W\n",
    "\n",
    "BL1 = 100 * W / len(df)\n",
    "BL2 = 100 * B / len(df)\n",
    "\n",
    "BL = [BL1, BL2]\n",
    "BL\n"
   ]
  },
  {
   "cell_type": "code",
   "execution_count": 16,
   "metadata": {},
   "outputs": [],
   "source": [
    "def fit_error_calc(BW, BL = BL):\n",
    "    fit_error = np.linalg.norm([BW[0]-BL[0], BW[1]-BL[1]])\n",
    "    return fit_error"
   ]
  },
  {
   "cell_type": "code",
   "execution_count": 17,
   "metadata": {},
   "outputs": [
    {
     "data": {
      "text/html": [
       "<div>\n",
       "<style scoped>\n",
       "    .dataframe tbody tr th:only-of-type {\n",
       "        vertical-align: middle;\n",
       "    }\n",
       "\n",
       "    .dataframe tbody tr th {\n",
       "        vertical-align: top;\n",
       "    }\n",
       "\n",
       "    .dataframe thead th {\n",
       "        text-align: right;\n",
       "    }\n",
       "</style>\n",
       "<table border=\"1\" class=\"dataframe\">\n",
       "  <thead>\n",
       "    <tr style=\"text-align: right;\">\n",
       "      <th></th>\n",
       "      <th>Time</th>\n",
       "      <th>Var1</th>\n",
       "      <th>Период</th>\n",
       "    </tr>\n",
       "  </thead>\n",
       "  <tbody>\n",
       "    <tr>\n",
       "      <th>0</th>\n",
       "      <td>2019-12-21</td>\n",
       "      <td>0.543378</td>\n",
       "      <td>1</td>\n",
       "    </tr>\n",
       "    <tr>\n",
       "      <th>1</th>\n",
       "      <td>2019-12-22</td>\n",
       "      <td>0.504853</td>\n",
       "      <td>1</td>\n",
       "    </tr>\n",
       "    <tr>\n",
       "      <th>2</th>\n",
       "      <td>2019-12-23</td>\n",
       "      <td>0.430356</td>\n",
       "      <td>1</td>\n",
       "    </tr>\n",
       "    <tr>\n",
       "      <th>3</th>\n",
       "      <td>2019-12-24</td>\n",
       "      <td>0.527782</td>\n",
       "      <td>1</td>\n",
       "    </tr>\n",
       "    <tr>\n",
       "      <th>4</th>\n",
       "      <td>2019-12-25</td>\n",
       "      <td>0.497517</td>\n",
       "      <td>1</td>\n",
       "    </tr>\n",
       "    <tr>\n",
       "      <th>...</th>\n",
       "      <td>...</td>\n",
       "      <td>...</td>\n",
       "      <td>...</td>\n",
       "    </tr>\n",
       "    <tr>\n",
       "      <th>1165</th>\n",
       "      <td>2023-02-28</td>\n",
       "      <td>0.479268</td>\n",
       "      <td>13</td>\n",
       "    </tr>\n",
       "    <tr>\n",
       "      <th>1166</th>\n",
       "      <td>2023-03-01</td>\n",
       "      <td>0.456620</td>\n",
       "      <td>13</td>\n",
       "    </tr>\n",
       "    <tr>\n",
       "      <th>1167</th>\n",
       "      <td>2023-03-02</td>\n",
       "      <td>0.550202</td>\n",
       "      <td>13</td>\n",
       "    </tr>\n",
       "    <tr>\n",
       "      <th>1168</th>\n",
       "      <td>2023-03-03</td>\n",
       "      <td>0.472124</td>\n",
       "      <td>13</td>\n",
       "    </tr>\n",
       "    <tr>\n",
       "      <th>1169</th>\n",
       "      <td>2023-03-04</td>\n",
       "      <td>0.575550</td>\n",
       "      <td>13</td>\n",
       "    </tr>\n",
       "  </tbody>\n",
       "</table>\n",
       "<p>1170 rows × 3 columns</p>\n",
       "</div>"
      ],
      "text/plain": [
       "           Time      Var1  Период\n",
       "0    2019-12-21  0.543378       1\n",
       "1    2019-12-22  0.504853       1\n",
       "2    2019-12-23  0.430356       1\n",
       "3    2019-12-24  0.527782       1\n",
       "4    2019-12-25  0.497517       1\n",
       "...         ...       ...     ...\n",
       "1165 2023-02-28  0.479268      13\n",
       "1166 2023-03-01  0.456620      13\n",
       "1167 2023-03-02  0.550202      13\n",
       "1168 2023-03-03  0.472124      13\n",
       "1169 2023-03-04  0.575550      13\n",
       "\n",
       "[1170 rows x 3 columns]"
      ]
     },
     "execution_count": 17,
     "metadata": {},
     "output_type": "execute_result"
    }
   ],
   "source": [
    "df"
   ]
  },
  {
   "cell_type": "code",
   "execution_count": 18,
   "metadata": {},
   "outputs": [
    {
     "data": {
      "text/html": [
       "<div>\n",
       "<style scoped>\n",
       "    .dataframe tbody tr th:only-of-type {\n",
       "        vertical-align: middle;\n",
       "    }\n",
       "\n",
       "    .dataframe tbody tr th {\n",
       "        vertical-align: top;\n",
       "    }\n",
       "\n",
       "    .dataframe thead th {\n",
       "        text-align: right;\n",
       "    }\n",
       "</style>\n",
       "<table border=\"1\" class=\"dataframe\">\n",
       "  <thead>\n",
       "    <tr style=\"text-align: right;\">\n",
       "      <th></th>\n",
       "      <th>Период</th>\n",
       "      <th>BW</th>\n",
       "    </tr>\n",
       "  </thead>\n",
       "  <tbody>\n",
       "    <tr>\n",
       "      <th>0</th>\n",
       "      <td>1</td>\n",
       "      <td>[64.44444444444444, 35.55555555555556]</td>\n",
       "    </tr>\n",
       "    <tr>\n",
       "      <th>1</th>\n",
       "      <td>2</td>\n",
       "      <td>[48.888888888888886, 51.111111111111114]</td>\n",
       "    </tr>\n",
       "    <tr>\n",
       "      <th>2</th>\n",
       "      <td>3</td>\n",
       "      <td>[74.44444444444444, 25.555555555555557]</td>\n",
       "    </tr>\n",
       "    <tr>\n",
       "      <th>3</th>\n",
       "      <td>4</td>\n",
       "      <td>[67.77777777777777, 32.22222222222222]</td>\n",
       "    </tr>\n",
       "    <tr>\n",
       "      <th>4</th>\n",
       "      <td>5</td>\n",
       "      <td>[84.44444444444444, 15.555555555555555]</td>\n",
       "    </tr>\n",
       "    <tr>\n",
       "      <th>5</th>\n",
       "      <td>6</td>\n",
       "      <td>[78.88888888888889, 21.11111111111111]</td>\n",
       "    </tr>\n",
       "    <tr>\n",
       "      <th>6</th>\n",
       "      <td>7</td>\n",
       "      <td>[83.33333333333333, 16.666666666666668]</td>\n",
       "    </tr>\n",
       "    <tr>\n",
       "      <th>7</th>\n",
       "      <td>8</td>\n",
       "      <td>[63.333333333333336, 36.666666666666664]</td>\n",
       "    </tr>\n",
       "    <tr>\n",
       "      <th>8</th>\n",
       "      <td>9</td>\n",
       "      <td>[68.88888888888889, 31.11111111111111]</td>\n",
       "    </tr>\n",
       "    <tr>\n",
       "      <th>9</th>\n",
       "      <td>10</td>\n",
       "      <td>[73.33333333333333, 26.666666666666668]</td>\n",
       "    </tr>\n",
       "    <tr>\n",
       "      <th>10</th>\n",
       "      <td>11</td>\n",
       "      <td>[78.88888888888889, 21.11111111111111]</td>\n",
       "    </tr>\n",
       "    <tr>\n",
       "      <th>11</th>\n",
       "      <td>12</td>\n",
       "      <td>[66.66666666666667, 33.333333333333336]</td>\n",
       "    </tr>\n",
       "    <tr>\n",
       "      <th>12</th>\n",
       "      <td>13</td>\n",
       "      <td>[70.0, 30.0]</td>\n",
       "    </tr>\n",
       "  </tbody>\n",
       "</table>\n",
       "</div>"
      ],
      "text/plain": [
       "    Период                                        BW\n",
       "0        1    [64.44444444444444, 35.55555555555556]\n",
       "1        2  [48.888888888888886, 51.111111111111114]\n",
       "2        3   [74.44444444444444, 25.555555555555557]\n",
       "3        4    [67.77777777777777, 32.22222222222222]\n",
       "4        5   [84.44444444444444, 15.555555555555555]\n",
       "5        6    [78.88888888888889, 21.11111111111111]\n",
       "6        7   [83.33333333333333, 16.666666666666668]\n",
       "7        8  [63.333333333333336, 36.666666666666664]\n",
       "8        9    [68.88888888888889, 31.11111111111111]\n",
       "9       10   [73.33333333333333, 26.666666666666668]\n",
       "10      11    [78.88888888888889, 21.11111111111111]\n",
       "11      12   [66.66666666666667, 33.333333333333336]\n",
       "12      13                              [70.0, 30.0]"
      ]
     },
     "execution_count": 18,
     "metadata": {},
     "output_type": "execute_result"
    }
   ],
   "source": [
    "result = df.groupby('Период').apply(calculate_levels).reset_index(drop=True)\n",
    "result"
   ]
  },
  {
   "cell_type": "code",
   "execution_count": 19,
   "metadata": {},
   "outputs": [
    {
     "data": {
      "text/plain": [
       "[71.02564102564102, 28.97435897435897]"
      ]
     },
     "execution_count": 19,
     "metadata": {},
     "output_type": "execute_result"
    }
   ],
   "source": [
    "W = result['BW'].apply(lambda x: x[0]).sum()/len(result)\n",
    "B = result['BW'].apply(lambda x: x[1]).sum()/len(result)\n",
    "\n",
    "BW = [W, B]\n",
    "BW\n"
   ]
  },
  {
   "cell_type": "markdown",
   "metadata": {},
   "source": [
    "#### 1.2 Оценка соответствия модели данным\n"
   ]
  },
  {
   "cell_type": "markdown",
   "metadata": {},
   "source": [
    "Задача Б: для равномерно агрегированной модели из 13-ти столбиков по 90 дней каждый вычислить ошибку соответсвия этой модели данным.\n"
   ]
  },
  {
   "cell_type": "code",
   "execution_count": 20,
   "metadata": {},
   "outputs": [
    {
     "data": {
      "text/plain": [
       "3.552713678800501e-15"
      ]
     },
     "execution_count": 20,
     "metadata": {},
     "output_type": "execute_result"
    }
   ],
   "source": [
    "fit_error = np.linalg.norm([BW[0]-BL[0], BW[1]-BL[1]])\n",
    "fit_error"
   ]
  },
  {
   "cell_type": "markdown",
   "metadata": {},
   "source": [
    "если я правильно понимаю, то так как модель в состоянии l=0, то она полностью соответсвует данным, поэтому получаем число, очень близкое к 0, а при сдвиге модели fit_error будет увеличиваться."
   ]
  },
  {
   "cell_type": "markdown",
   "metadata": {},
   "source": [
    "#### 1.3 Параметризация равномерно агрегированной модели\n"
   ]
  },
  {
   "cell_type": "code",
   "execution_count": 21,
   "metadata": {},
   "outputs": [],
   "source": [
    "df = data_load()\n",
    "df = data_shape(df, '2019-12-21', '2023-03-04')\n",
    "df['Период'] = (df['Time'].sub(df['Time'].min()) // pd.Timedelta('90 days')).add(1)"
   ]
  },
  {
   "cell_type": "code",
   "execution_count": 22,
   "metadata": {},
   "outputs": [
    {
     "data": {
      "text/plain": [
       "Период\n",
       "13    91\n",
       "2     90\n",
       "3     90\n",
       "4     90\n",
       "5     90\n",
       "6     90\n",
       "7     90\n",
       "8     90\n",
       "9     90\n",
       "10    90\n",
       "11    90\n",
       "12    90\n",
       "1     89\n",
       "Name: count, dtype: int64"
      ]
     },
     "execution_count": 22,
     "metadata": {},
     "output_type": "execute_result"
    }
   ],
   "source": [
    "df = shift_model(df, 1)\n",
    "df['Период'].value_counts()\n"
   ]
  },
  {
   "cell_type": "code",
   "execution_count": 23,
   "metadata": {},
   "outputs": [
    {
     "data": {
      "text/plain": [
       "Период\n",
       "1     91\n",
       "2     90\n",
       "3     90\n",
       "4     90\n",
       "5     90\n",
       "6     90\n",
       "7     90\n",
       "8     90\n",
       "9     90\n",
       "10    90\n",
       "11    90\n",
       "12    90\n",
       "13    89\n",
       "Name: count, dtype: int64"
      ]
     },
     "execution_count": 23,
     "metadata": {},
     "output_type": "execute_result"
    }
   ],
   "source": [
    "df = shift_model(df, -2)\n",
    "df['Период'].value_counts()\n"
   ]
  },
  {
   "cell_type": "markdown",
   "metadata": {},
   "source": [
    "#### 1.4 Сдвиг равномерно-агрегированной модели по параметру l\n"
   ]
  },
  {
   "cell_type": "markdown",
   "metadata": {},
   "source": [
    "Задача В: для моделей с параметрами l = 1 и l = -1 определить уровени белого и черного BW для каждой модели на всем наборе данных; вычислить ошибку соответсвия модели данным при l = 1 и при l = -1; вычислить ошибку соответсвия модели данным при l = 0 и сравнить с ответом Задачи Б.\n"
   ]
  },
  {
   "cell_type": "code",
   "execution_count": 24,
   "metadata": {},
   "outputs": [
    {
     "data": {
      "text/plain": [
       "[71.02564102564102, 28.97435897435897]"
      ]
     },
     "execution_count": 24,
     "metadata": {},
     "output_type": "execute_result"
    }
   ],
   "source": [
    "df0 = model_with_shift(0)\n",
    "BW = BW_calc(df0)\n",
    "BW"
   ]
  },
  {
   "cell_type": "code",
   "execution_count": 25,
   "metadata": {},
   "outputs": [
    {
     "data": {
      "text/plain": [
       "3.552713678800501e-15"
      ]
     },
     "execution_count": 25,
     "metadata": {},
     "output_type": "execute_result"
    }
   ],
   "source": [
    "fit_error = fit_error_calc(BW)\n",
    "fit_error"
   ]
  },
  {
   "cell_type": "code",
   "execution_count": 26,
   "metadata": {},
   "outputs": [
    {
     "data": {
      "text/plain": [
       "[71.02120869623029, 28.978791303769697]"
      ]
     },
     "execution_count": 26,
     "metadata": {},
     "output_type": "execute_result"
    }
   ],
   "source": [
    "df1 = model_with_shift(1)\n",
    "BW = BW_calc(df1)\n",
    "BW"
   ]
  },
  {
   "cell_type": "code",
   "execution_count": 27,
   "metadata": {},
   "outputs": [
    {
     "data": {
      "text/plain": [
       "0.006268260365556086"
      ]
     },
     "execution_count": 27,
     "metadata": {},
     "output_type": "execute_result"
    }
   ],
   "source": [
    "fit_error = fit_error_calc(BW)\n",
    "fit_error"
   ]
  },
  {
   "cell_type": "code",
   "execution_count": 28,
   "metadata": {},
   "outputs": [
    {
     "data": {
      "text/plain": [
       "[71.0297673132591, 28.970232686740893]"
      ]
     },
     "execution_count": 28,
     "metadata": {},
     "output_type": "execute_result"
    }
   ],
   "source": [
    "df_1 = model_with_shift(-1)\n",
    "BW = BW_calc(df_1)\n",
    "BW"
   ]
  },
  {
   "cell_type": "code",
   "execution_count": 29,
   "metadata": {},
   "outputs": [
    {
     "data": {
      "text/plain": [
       "0.005835451911740728"
      ]
     },
     "execution_count": 29,
     "metadata": {},
     "output_type": "execute_result"
    }
   ],
   "source": [
    "fit_error = fit_error_calc(BW)\n",
    "fit_error"
   ]
  },
  {
   "cell_type": "markdown",
   "metadata": {},
   "source": [
    "1.5 Сравнение моделей между собой в метрике R-квадрат"
   ]
  },
  {
   "cell_type": "code",
   "execution_count": 30,
   "metadata": {},
   "outputs": [],
   "source": [
    "models = {}\n",
    "for l in range(-1, 2):\n",
    "    models[l] = model_with_shift(l)"
   ]
  },
  {
   "cell_type": "code",
   "execution_count": 31,
   "metadata": {},
   "outputs": [],
   "source": [
    "FE = FE_table([l for l in range(-1, 2)])"
   ]
  },
  {
   "cell_type": "code",
   "execution_count": 32,
   "metadata": {},
   "outputs": [],
   "source": [
    "from sklearn.metrics import r2_score\n"
   ]
  },
  {
   "cell_type": "code",
   "execution_count": 33,
   "metadata": {},
   "outputs": [
    {
     "data": {
      "text/plain": [
       "[64.44444444444444,\n",
       " 48.888888888888886,\n",
       " 74.44444444444444,\n",
       " 67.77777777777777,\n",
       " 84.44444444444444,\n",
       " 78.88888888888889,\n",
       " 83.33333333333333,\n",
       " 63.333333333333336,\n",
       " 68.88888888888889,\n",
       " 73.33333333333333,\n",
       " 78.88888888888889,\n",
       " 66.66666666666667,\n",
       " 70.0]"
      ]
     },
     "execution_count": 33,
     "metadata": {},
     "output_type": "execute_result"
    }
   ],
   "source": [
    "result = models[0].groupby('Период').apply(calculate_levels).reset_index(drop=True)\n",
    "bw_list = result['BW'].tolist()\n",
    "ytrue = [sublist[0] for sublist in bw_list]\n",
    "ytrue"
   ]
  },
  {
   "cell_type": "code",
   "execution_count": 41,
   "metadata": {},
   "outputs": [],
   "source": [
    "r2_values = []\n",
    "for l in range(-1, 2):\n",
    "    result = models[l].groupby('Период').apply(calculate_levels).reset_index(drop=True)\n",
    "    bw_list = result['BW'].tolist()\n",
    "    ypred = [sublist[0] for sublist in bw_list]\n",
    "    r2_values.append(1-r2_score(ytrue, ypred))\n",
    "\n",
    "FE['1 - R^2'] = r2_values"
   ]
  },
  {
   "cell_type": "code",
   "execution_count": 42,
   "metadata": {},
   "outputs": [
    {
     "data": {
      "text/html": [
       "<div>\n",
       "<style scoped>\n",
       "    .dataframe tbody tr th:only-of-type {\n",
       "        vertical-align: middle;\n",
       "    }\n",
       "\n",
       "    .dataframe tbody tr th {\n",
       "        vertical-align: top;\n",
       "    }\n",
       "\n",
       "    .dataframe thead th {\n",
       "        text-align: right;\n",
       "    }\n",
       "</style>\n",
       "<table border=\"1\" class=\"dataframe\">\n",
       "  <thead>\n",
       "    <tr style=\"text-align: right;\">\n",
       "      <th></th>\n",
       "      <th>Model</th>\n",
       "      <th>1 - R^2</th>\n",
       "    </tr>\n",
       "  </thead>\n",
       "  <tbody>\n",
       "    <tr>\n",
       "      <th>0</th>\n",
       "      <td>i = -1</td>\n",
       "      <td>0.002487</td>\n",
       "    </tr>\n",
       "    <tr>\n",
       "      <th>2</th>\n",
       "      <td>i = 1</td>\n",
       "      <td>0.008540</td>\n",
       "    </tr>\n",
       "  </tbody>\n",
       "</table>\n",
       "</div>"
      ],
      "text/plain": [
       "    Model   1 - R^2\n",
       "0  i = -1  0.002487\n",
       "2   i = 1  0.008540"
      ]
     },
     "execution_count": 42,
     "metadata": {},
     "output_type": "execute_result"
    }
   ],
   "source": [
    "FE.drop(1, axis=0).drop('Fit-error', axis=1)"
   ]
  },
  {
   "cell_type": "markdown",
   "metadata": {},
   "source": [
    "### 2.2 Визуализация результатов\n",
    "#### 2.1 Создание таблицы со значениями ошибки соответствия данным\n"
   ]
  },
  {
   "cell_type": "code",
   "execution_count": 43,
   "metadata": {},
   "outputs": [
    {
     "data": {
      "text/html": [
       "<div>\n",
       "<style scoped>\n",
       "    .dataframe tbody tr th:only-of-type {\n",
       "        vertical-align: middle;\n",
       "    }\n",
       "\n",
       "    .dataframe tbody tr th {\n",
       "        vertical-align: top;\n",
       "    }\n",
       "\n",
       "    .dataframe thead th {\n",
       "        text-align: right;\n",
       "    }\n",
       "</style>\n",
       "<table border=\"1\" class=\"dataframe\">\n",
       "  <thead>\n",
       "    <tr style=\"text-align: right;\">\n",
       "      <th></th>\n",
       "      <th>Model</th>\n",
       "      <th>Fit-error</th>\n",
       "      <th>1 - R^2</th>\n",
       "    </tr>\n",
       "  </thead>\n",
       "  <tbody>\n",
       "    <tr>\n",
       "      <th>0</th>\n",
       "      <td>i = -1</td>\n",
       "      <td>0.0058</td>\n",
       "      <td>0.002487</td>\n",
       "    </tr>\n",
       "    <tr>\n",
       "      <th>1</th>\n",
       "      <td>i = 0</td>\n",
       "      <td>0.0000</td>\n",
       "      <td>0.000000</td>\n",
       "    </tr>\n",
       "    <tr>\n",
       "      <th>2</th>\n",
       "      <td>i = 1</td>\n",
       "      <td>0.0063</td>\n",
       "      <td>0.008540</td>\n",
       "    </tr>\n",
       "  </tbody>\n",
       "</table>\n",
       "</div>"
      ],
      "text/plain": [
       "    Model  Fit-error   1 - R^2\n",
       "0  i = -1     0.0058  0.002487\n",
       "1   i = 0     0.0000  0.000000\n",
       "2   i = 1     0.0063  0.008540"
      ]
     },
     "execution_count": 43,
     "metadata": {},
     "output_type": "execute_result"
    }
   ],
   "source": [
    "FE\n"
   ]
  },
  {
   "cell_type": "markdown",
   "metadata": {},
   "source": [
    "#### 2.2 Построение диаграмм\n"
   ]
  },
  {
   "cell_type": "code",
   "execution_count": 37,
   "metadata": {},
   "outputs": [
    {
     "data": {
      "image/png": "[encoded data removed]",
      "text/plain": [
       "<Figure size 1600x600 with 1 Axes>"
      ]
     },
     "metadata": {},
     "output_type": "display_data"
    }
   ],
   "source": [
    "plot_shift(df1, 1)\n"
   ]
  },
  {
   "cell_type": "code",
   "execution_count": 38,
   "metadata": {},
   "outputs": [
    {
     "data": {
      "image/png": "[encoded data removed]",
      "text/plain": [
       "<Figure size 1600x600 with 1 Axes>"
      ]
     },
     "metadata": {},
     "output_type": "display_data"
    }
   ],
   "source": [
    "plot_shift(df0, 0)"
   ]
  },
  {
   "cell_type": "code",
   "execution_count": 39,
   "metadata": {},
   "outputs": [
    {
     "data": {
      "image/png": "[encoded data removed]",
      "text/plain": [
       "<Figure size 1600x600 with 1 Axes>"
      ]
     },
     "metadata": {},
     "output_type": "display_data"
    }
   ],
   "source": [
    "plot_shift(df_1, -1)"
   ]
  }
 ],
 "metadata": {
  "kernelspec": {
   "display_name": "Python 3",
   "language": "python",
   "name": "python3"
  },
  "language_info": {
   "codemirror_mode": {
    "name": "ipython",
    "version": 3
   },
   "file_extension": ".py",
   "mimetype": "text/x-python",
   "name": "python",
   "nbconvert_exporter": "python",
   "pygments_lexer": "ipython3",
   "version": "3.12.0"
  }
 },
 "nbformat": 4,
 "nbformat_minor": 2
}
